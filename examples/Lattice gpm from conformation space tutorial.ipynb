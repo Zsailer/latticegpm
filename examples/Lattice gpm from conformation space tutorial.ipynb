{
 "cells": [
  {
   "cell_type": "markdown",
   "metadata": {},
   "source": [
    "# How to build a genotype-phenotype map (a.k.a. sequence space) from protein lattice models"
   ]
  },
  {
   "cell_type": "markdown",
   "metadata": {},
   "source": [
    "This notebook demonstrates how to use Jesse Bloom's **protein lattice model package**, [latticeproteins](), to build genotype-phenotype map. The phenotypes are the protein's folding stability in this case. You must have `latticeproteins` installed as a dependency for this package. \n",
    "\n",
    "We'll begin by importing some of his package here."
   ]
  },
  {
   "cell_type": "code",
   "execution_count": 1,
   "metadata": {
    "collapsed": true
   },
   "outputs": [],
   "source": [
    "import os\n",
    "from latticeproteins.conformations import Conformations"
   ]
  },
  {
   "cell_type": "markdown",
   "metadata": {},
   "source": [
    "In `latticeproteins`'s `conformations` module, we can build the ensemble of all possible conformations for sequences of the same length."
   ]
  },
  {
   "cell_type": "code",
   "execution_count": 2,
   "metadata": {
    "collapsed": false
   },
   "outputs": [],
   "source": [
    "length = 6\n",
    "database_dir = \"%s/database\" % os.getcwd()\n",
    "c = Conformations(length, database_dir)"
   ]
  },
  {
   "cell_type": "markdown",
   "metadata": {},
   "source": [
    "Here comes the new stuff...\n",
    "\n",
    "We'll import the `LatticeSequenceSpace` object which will build a sequence space between two starting sequences that differ at all sites."
   ]
  },
  {
   "cell_type": "code",
   "execution_count": 3,
   "metadata": {
    "collapsed": false
   },
   "outputs": [],
   "source": [
    "from latticegpm.space import LatticeConformationSpace\n",
    "from latticegpm.utils import search_conformation_space"
   ]
  },
  {
   "cell_type": "markdown",
   "metadata": {},
   "source": [
    "First, we need to find two sequences that have a non-zero fitness and differ at all sites! `search_fitness_landscape` does exactly that."
   ]
  },
  {
   "cell_type": "code",
   "execution_count": 4,
   "metadata": {
    "collapsed": false
   },
   "outputs": [
    {
     "name": "stdout",
     "output_type": "stream",
     "text": [
      "Wildtype sequence: FSQIEH\n",
      "Mutant sequence: VFTTWN\n"
     ]
    }
   ],
   "source": [
    "temperature = 1.0\n",
    "threshold = -0.5\n",
    "wildtype, mutant = search_conformation_space(c, temperature, threshold)\n",
    "print(\"Wildtype sequence: \" + wildtype)\n",
    "print(\"Mutant sequence: \" + mutant)"
   ]
  },
  {
   "cell_type": "markdown",
   "metadata": {},
   "source": [
    "Now, we'll build a sequence space between these two ligands with the `LatticeSequenceSpace` object and print out some example nodes in this space."
   ]
  },
  {
   "cell_type": "code",
   "execution_count": 6,
   "metadata": {
    "collapsed": false
   },
   "outputs": [
    {
     "name": "stdout",
     "output_type": "stream",
     "text": [
      "* * * *\n",
      "       \n",
      "* S-Q *\n",
      "  | |  \n",
      "* F I *\n",
      "    |  \n",
      "* H-E *\n",
      "       \n",
      "* * * *\n",
      "* * * *\n",
      "       \n",
      "* S-Q *\n",
      "  | |  \n",
      "* F I *\n",
      "    |  \n",
      "* N-E *\n",
      "       \n",
      "* * * *\n",
      "* * * *\n",
      "       \n",
      "* S-Q *\n",
      "  | |  \n",
      "* F I *\n",
      "    |  \n",
      "* H-W *\n",
      "       \n",
      "* * * *\n",
      "* * * *\n",
      "       \n",
      "* S-Q *\n",
      "  | |  \n",
      "* F I *\n",
      "    |  \n",
      "* N-W *\n",
      "       \n",
      "* * * *\n",
      "* * * *\n",
      "       \n",
      "* S-Q *\n",
      "  | |  \n",
      "* F T *\n",
      "    |  \n",
      "* H-E *\n",
      "       \n",
      "* * * *\n",
      "* * * *\n",
      "       \n",
      "* S-Q *\n",
      "  | |  \n",
      "* F T *\n",
      "    |  \n",
      "* N-E *\n",
      "       \n",
      "* * * *\n",
      "* * * *\n",
      "       \n",
      "* S-Q *\n",
      "  | |  \n",
      "* F T *\n",
      "    |  \n",
      "* H-W *\n",
      "       \n",
      "* * * *\n",
      "* * * *\n",
      "       \n",
      "* S-Q *\n",
      "  | |  \n",
      "* F T *\n",
      "    |  \n",
      "* N-W *\n",
      "       \n",
      "* * * *\n",
      "* * * *\n",
      "       \n",
      "* S-T *\n",
      "  | |  \n",
      "* F I *\n",
      "    |  \n",
      "* H-E *\n",
      "       \n",
      "* * * *\n",
      "* * * *\n",
      "       \n",
      "* S-T *\n",
      "  | |  \n",
      "* F I *\n",
      "    |  \n",
      "* N-E *\n",
      "       \n",
      "* * * *\n"
     ]
    }
   ],
   "source": [
    "# Create an instance of LatticeFitnessSpace\n",
    "sequence_space = LatticeConformationSpace(wildtype, mutant, c, temperature=temperature)\n",
    "# Print some example sequence\n",
    "sequence_space.print_sequences(sequence_space.sequences[0:10])"
   ]
  },
  {
   "cell_type": "markdown",
   "metadata": {},
   "source": [
    "We can access all sequences and fitness in this space by calling these properties."
   ]
  },
  {
   "cell_type": "code",
   "execution_count": 8,
   "metadata": {
    "collapsed": false
   },
   "outputs": [],
   "source": [
    "genotypes = sequence_space.sequences\n",
    "phenotypes =  sequence_space.stabilities"
   ]
  }
 ],
 "metadata": {
  "kernelspec": {
   "display_name": "Python 2",
   "language": "python",
   "name": "python2"
  },
  "language_info": {
   "codemirror_mode": {
    "name": "ipython",
    "version": 2
   },
   "file_extension": ".py",
   "mimetype": "text/x-python",
   "name": "python",
   "nbconvert_exporter": "python",
   "pygments_lexer": "ipython2",
   "version": "2.7.6"
  }
 },
 "nbformat": 4,
 "nbformat_minor": 0
}
