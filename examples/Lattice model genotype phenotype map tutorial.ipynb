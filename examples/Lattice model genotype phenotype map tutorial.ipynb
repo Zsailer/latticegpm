{
 "cells": [
  {
   "cell_type": "markdown",
   "metadata": {},
   "source": [
    "# How to build a genotype-phenotype map (a.k.a. sequence space) from protein lattice models"
   ]
  },
  {
   "cell_type": "markdown",
   "metadata": {},
   "source": [
    "This notebook demonstrates how to use Jesse Bloom's **protein lattice model package**, [latticeproteins](), to build genotype-phenotype map. You must have `latticeproteins` installed as a dependency for this package. \n",
    "\n",
    "We'll begin by importing some of his package here."
   ]
  },
  {
   "cell_type": "code",
   "execution_count": null,
   "metadata": {
    "collapsed": true
   },
   "outputs": [],
   "source": [
    "import os\n",
    "from latticeproteins.conformations import *\n",
    "from latticeproteins.fitness import Fitness"
   ]
  },
  {
   "cell_type": "markdown",
   "metadata": {},
   "source": [
    "In `latticeproteins`'s `conformations` module, we can build the ensemble of all possible conformations for sequences of the same length."
   ]
  },
  {
   "cell_type": "code",
   "execution_count": null,
   "metadata": {
    "collapsed": true
   },
   "outputs": [],
   "source": [
    "length = 6\n",
    "database_dir = \"%s/database\" % os.getcwd()\n",
    "c = Conformations(length, database_dir)"
   ]
  },
  {
   "cell_type": "markdown",
   "metadata": {},
   "source": [
    "We can simulate fitness in these models by binding a ligand to the native structure of the lattice protein. The fitness module from `latticeproteins` calculates fitness for each protein bound to a ligand. If the protein doesn't fold, the fitness is 0."
   ]
  },
  {
   "cell_type": "code",
   "execution_count": null,
   "metadata": {
    "collapsed": true
   },
   "outputs": [],
   "source": [
    "# Create a ligand\n",
    "ligand = 'IIIIII'\n",
    "ligandconf = 'LUUUR'\n",
    "stabcutoff = 0\n",
    "Ligand = (ligand, ligandconf, stabcutoff)\n",
    "T = .9\n",
    "fitness = Fitness(T, c, dGdependence='negstability', targets=None, ligand=Ligand)"
   ]
  },
  {
   "cell_type": "markdown",
   "metadata": {},
   "source": [
    "Here comes the new stuff...\n",
    "\n",
    "We'll import the `LatticeSequenceSpace` object which will build a sequence space between two starting sequences that differ at all sites."
   ]
  },
  {
   "cell_type": "code",
   "execution_count": null,
   "metadata": {
    "collapsed": true
   },
   "outputs": [],
   "source": [
    "from latticegpm.space import LatticeSequenceSpace\n",
    "from latticegpm.utils import search_fitness_landscape"
   ]
  },
  {
   "cell_type": "markdown",
   "metadata": {},
   "source": [
    "First, we need to find two sequences that have a non-zero fitness and differ at all sites! `search_fitness_landscape` does exactly that."
   ]
  },
  {
   "cell_type": "code",
   "execution_count": null,
   "metadata": {
    "collapsed": true
   },
   "outputs": [],
   "source": [
    "wildtype, mutant = search_fitness_landscape(fitness, 100000)\n",
    "print(\"Wildtype sequence: \" + wildtype)\n",
    "print(\"Mutant sequence: \" + mutant)"
   ]
  },
  {
   "cell_type": "markdown",
   "metadata": {},
   "source": [
    "Now, we'll build a sequence space between these two ligands with the `LatticeSequenceSpace` object and print out some example nodes in this space."
   ]
  },
  {
   "cell_type": "code",
   "execution_count": null,
   "metadata": {
    "collapsed": true
   },
   "outputs": [],
   "source": [
    "sequence_space = LatticeSequenceSpace(wildtype, mutant, fitness)\n",
    "sequence_space.print_sequences(ss.sequences[0:10])"
   ]
  },
  {
   "cell_type": "markdown",
   "metadata": {},
   "source": [
    "We can access all sequences and fitness in this space by calling these properties."
   ]
  },
  {
   "cell_type": "code",
   "execution_count": null,
   "metadata": {
    "collapsed": true
   },
   "outputs": [],
   "source": [
    "genotypes = sequence_space.sequences\n",
    "phenotypes =  sequence_space.fitnesses"
   ]
  }
 ],
 "metadata": {
  "kernelspec": {
   "display_name": "Python 2",
   "language": "python",
   "name": "python2"
  },
  "language_info": {
   "codemirror_mode": {
    "name": "ipython",
    "version": 2
   },
   "file_extension": ".py",
   "mimetype": "text/x-python",
   "name": "python",
   "nbconvert_exporter": "python",
   "pygments_lexer": "ipython2",
   "version": "2.7.6"
  }
 },
 "nbformat": 4,
 "nbformat_minor": 0
}
