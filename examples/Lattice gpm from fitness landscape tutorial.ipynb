{
 "cells": [
  {
   "cell_type": "markdown",
   "metadata": {},
   "source": [
    "# How to build a genotype-phenotype map (a.k.a. sequence space) from protein lattice models"
   ]
  },
  {
   "cell_type": "markdown",
   "metadata": {},
   "source": [
    "This notebook demonstrates how to use Jesse Bloom's **protein lattice model package**, [latticeproteins](), to build genotype-phenotype map. In this case, the phenotypes are estimate from the protein's ability to fold and bind a ligand. You must have `latticeproteins` installed as a dependency for this package. \n",
    "\n",
    "We'll begin by importing some of his package here."
   ]
  },
  {
   "cell_type": "code",
   "execution_count": 12,
   "metadata": {
    "collapsed": true
   },
   "outputs": [],
   "source": [
    "import os\n",
    "from latticeproteins.conformations import *\n",
    "from latticeproteins.fitness import Fitness"
   ]
  },
  {
   "cell_type": "markdown",
   "metadata": {},
   "source": [
    "In `latticeproteins`'s `conformations` module, we can build the ensemble of all possible conformations for sequences of the same length."
   ]
  },
  {
   "cell_type": "code",
   "execution_count": 13,
   "metadata": {
    "collapsed": false
   },
   "outputs": [],
   "source": [
    "length = 6\n",
    "database_dir = \"%s/database\" % os.getcwd()\n",
    "c = Conformations(length, database_dir)"
   ]
  },
  {
   "cell_type": "markdown",
   "metadata": {},
   "source": [
    "We can simulate fitness in these models by binding a ligand to the native structure of the lattice protein. The fitness module from `latticeproteins` calculates fitness for each protein bound to a ligand. If the protein doesn't fold, the fitness is 0."
   ]
  },
  {
   "cell_type": "code",
   "execution_count": 14,
   "metadata": {
    "collapsed": true
   },
   "outputs": [],
   "source": [
    "# Create a ligand\n",
    "ligand = 'IIIIII'\n",
    "ligandconf = 'LUUUR'\n",
    "stabcutoff = 0\n",
    "Ligand = (ligand, ligandconf, stabcutoff)\n",
    "T = .9\n",
    "fitness = Fitness(T, c, dGdependence='negstability', targets=None, ligand=Ligand)"
   ]
  },
  {
   "cell_type": "markdown",
   "metadata": {},
   "source": [
    "Here comes the new stuff...\n",
    "\n",
    "We'll import the `LatticeSequenceSpace` object which will build a sequence space between two starting sequences that differ at all sites."
   ]
  },
  {
   "cell_type": "code",
   "execution_count": 15,
   "metadata": {
    "collapsed": false
   },
   "outputs": [],
   "source": [
    "from latticegpm.space import LatticeFitnessSpace\n",
    "from latticegpm.utils import search_fitness_landscape"
   ]
  },
  {
   "cell_type": "markdown",
   "metadata": {},
   "source": [
    "First, we need to find two sequences that have a non-zero fitness and differ at all sites! `search_fitness_landscape` does exactly that."
   ]
  },
  {
   "cell_type": "code",
   "execution_count": 16,
   "metadata": {
    "collapsed": false
   },
   "outputs": [
    {
     "name": "stdout",
     "output_type": "stream",
     "text": [
      "Wildtype sequence: REKIDC\n",
      "Mutant sequence: WNMATW\n"
     ]
    }
   ],
   "source": [
    "wildtype, mutant = search_fitness_landscape(fitness, 100000)\n",
    "print(\"Wildtype sequence: \" + wildtype)\n",
    "print(\"Mutant sequence: \" + mutant)"
   ]
  },
  {
   "cell_type": "markdown",
   "metadata": {},
   "source": [
    "Now, we'll build a sequence space between these two ligands with the `LatticeSequenceSpace` object and print out some example nodes in this space."
   ]
  },
  {
   "cell_type": "code",
   "execution_count": 17,
   "metadata": {
    "collapsed": false
   },
   "outputs": [
    {
     "name": "stdout",
     "output_type": "stream",
     "text": [
      "* * * * * *\n",
      "           \n",
      "* * E-K * *\n",
      "    | |    \n",
      "* * R I * *\n",
      "      |    \n",
      "* i C-D i *\n",
      "  |     |  \n",
      "* i-i-i-i *\n",
      "           \n",
      "* * * * * *\n",
      "* * * * * *\n",
      "           \n",
      "* * E-K * *\n",
      "    | |    \n",
      "* * R I * *\n",
      "      |    \n",
      "* i W-D i *\n",
      "  |     |  \n",
      "* i-i-i-i *\n",
      "           \n",
      "* * * * * *\n",
      "* * * * * *\n",
      "           \n",
      "* * E-K * *\n",
      "    | |    \n",
      "* * R I * *\n",
      "      |    \n",
      "* i C-T i *\n",
      "  |     |  \n",
      "* i-i-i-i *\n",
      "           \n",
      "* * * * * *\n",
      "* * * * * *\n",
      "           \n",
      "* * E-K * *\n",
      "    | |    \n",
      "* * R I * *\n",
      "      |    \n",
      "* i W-T i *\n",
      "  |     |  \n",
      "* i-i-i-i *\n",
      "           \n",
      "* * * * * *\n",
      "* * * * * *\n",
      "           \n",
      "* * * i-i *\n",
      "        |  \n",
      "* E-K-A i *\n",
      "  |   | |  \n",
      "* R C-D i *\n",
      "        |  \n",
      "* * * i-i *\n",
      "           \n",
      "* * * * * *\n",
      "* * * * * *\n",
      "           \n",
      "* * * i-i *\n",
      "        |  \n",
      "* E-K-A i *\n",
      "  |   | |  \n",
      "* R W-D i *\n",
      "        |  \n",
      "* * * i-i *\n",
      "           \n",
      "* * * * * *\n",
      "* * * * * *\n",
      "           \n",
      "* * * i-i *\n",
      "        |  \n",
      "* E-K-A i *\n",
      "  |   | |  \n",
      "* R C-T i *\n",
      "        |  \n",
      "* * * i-i *\n",
      "           \n",
      "* * * * * *\n",
      "* * * * * *\n",
      "           \n",
      "* * * i-i *\n",
      "        |  \n",
      "* E-K-A i *\n",
      "  |   | |  \n",
      "* R W-T i *\n",
      "        |  \n",
      "* * * i-i *\n",
      "           \n",
      "* * * * * *\n",
      "* * * * * *\n",
      "           \n",
      "* * * i-i *\n",
      "        |  \n",
      "* E-M C i *\n",
      "  | | | |  \n",
      "* R I-D i *\n",
      "        |  \n",
      "* * * i-i *\n",
      "           \n",
      "* * * * * *\n",
      "* * * * * *\n",
      "           \n",
      "* * * i-i *\n",
      "        |  \n",
      "* E-M-I i *\n",
      "  |   | |  \n",
      "* R W-D i *\n",
      "        |  \n",
      "* * * i-i *\n",
      "           \n",
      "* * * * * *\n"
     ]
    }
   ],
   "source": [
    "# Create an instance of LatticeFitnessSpace\n",
    "sequence_space = LatticeFitnessSpace(wildtype, mutant, fitness)\n",
    "# Print some example sequence\n",
    "sequence_space.print_sequences(sequence_space.sequences[0:10], with_ligand=True)"
   ]
  },
  {
   "cell_type": "markdown",
   "metadata": {},
   "source": [
    "We can access all sequences and fitness in this space by calling these properties."
   ]
  },
  {
   "cell_type": "code",
   "execution_count": 18,
   "metadata": {
    "collapsed": true
   },
   "outputs": [],
   "source": [
    "genotypes = sequence_space.sequences\n",
    "phenotypes =  sequence_space.fitnesses"
   ]
  }
 ],
 "metadata": {
  "kernelspec": {
   "display_name": "Python 2",
   "language": "python",
   "name": "python2"
  },
  "language_info": {
   "codemirror_mode": {
    "name": "ipython",
    "version": 2
   },
   "file_extension": ".py",
   "mimetype": "text/x-python",
   "name": "python",
   "nbconvert_exporter": "python",
   "pygments_lexer": "ipython2",
   "version": "2.7.6"
  }
 },
 "nbformat": 4,
 "nbformat_minor": 0
}
