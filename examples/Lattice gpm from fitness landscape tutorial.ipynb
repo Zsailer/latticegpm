{
 "cells": [
  {
   "cell_type": "markdown",
   "metadata": {},
   "source": [
    "# How to build a genotype-phenotype map (a.k.a. sequence space) from protein lattice models"
   ]
  },
  {
   "cell_type": "markdown",
   "metadata": {},
   "source": [
    "This notebook demonstrates how to use Jesse Bloom's **protein lattice model package**, [latticeproteins](), to build genotype-phenotype map. In this case, the phenotypes are estimate from the protein's ability to fold and bind a ligand. You must have `latticeproteins` installed as a dependency for this package. \n",
    "\n",
    "We'll begin by importing some of his package here."
   ]
  },
  {
   "cell_type": "code",
   "execution_count": 1,
   "metadata": {
    "collapsed": true
   },
   "outputs": [],
   "source": [
    "import os\n",
    "from latticeproteins.conformations import *\n",
    "from latticeproteins.fitness import Fitness"
   ]
  },
  {
   "cell_type": "markdown",
   "metadata": {},
   "source": [
    "In `latticeproteins`'s `conformations` module, we can build the ensemble of all possible conformations for sequences of the same length."
   ]
  },
  {
   "cell_type": "code",
   "execution_count": 2,
   "metadata": {
    "collapsed": false
   },
   "outputs": [],
   "source": [
    "length = 10\n",
    "database_dir = \"%s/database\" % os.getcwd()\n",
    "c = Conformations(length, database_dir)"
   ]
  },
  {
   "cell_type": "code",
   "execution_count": 3,
   "metadata": {
    "collapsed": false
   },
   "outputs": [],
   "source": [
    "from latticegpm.gpm import LatticeGenotypePhenotypeMap\n",
    "from latticegpm.search import sequence_space"
   ]
  },
  {
   "cell_type": "markdown",
   "metadata": {},
   "source": [
    "First, we need to find two sequences that have a non-zero fitness and differ at all sites! `search_fitness_landscape` does exactly that."
   ]
  },
  {
   "cell_type": "code",
   "execution_count": 4,
   "metadata": {
    "collapsed": false
   },
   "outputs": [
    {
     "name": "stdout",
     "output_type": "stream",
     "text": [
      "Wildtype sequence: VNAFGNMGSI\n",
      "Mutant sequence: FNRFGSAFAI\n"
     ]
    }
   ],
   "source": [
    "wildtype, mutant = sequence_space(10, differby=6)\n",
    "print(\"Wildtype sequence: \" + wildtype)\n",
    "print(\"Mutant sequence: \" + mutant)"
   ]
  },
  {
   "cell_type": "markdown",
   "metadata": {},
   "source": [
    "Now, we'll build a sequence space between these two ligands with the `LatticeSequenceSpace` object and print out some example nodes in this space."
   ]
  },
  {
   "cell_type": "code",
   "execution_count": 5,
   "metadata": {
    "collapsed": false
   },
   "outputs": [],
   "source": [
    "# Create an instance of LatticeFitnessSpace\n",
    "from gpmap.utils import binary_mutations_map\n",
    "mutations = binary_mutations_map(wildtype, mutant)\n",
    "sequence_space = LatticeGenotypePhenotypeMap(wildtype, mutations, c)"
   ]
  },
  {
   "cell_type": "code",
   "execution_count": 6,
   "metadata": {
    "collapsed": false
   },
   "outputs": [
    {
     "data": {
      "text/plain": [
       "-0.15367685968991651"
      ]
     },
     "execution_count": 6,
     "metadata": {},
     "output_type": "execute_result"
    }
   ],
   "source": [
    "sequence_space.stabilities[0]"
   ]
  },
  {
   "cell_type": "code",
   "execution_count": 7,
   "metadata": {
    "collapsed": false
   },
   "outputs": [
    {
     "data": {
      "text/plain": [
       "array([ 0.46165622,  0.46866002,  0.73452499,  0.73629754,  0.70005527,\n",
       "        0.72489365,  0.72950033,  0.74147926,  0.46531842,  0.47251199,\n",
       "        0.73604136,  0.73789524,  0.71268092,  0.73995861,  0.7355482 ,\n",
       "        0.74810991,  0.30156953,  0.30644998,  0.66726161,  0.66858763,\n",
       "        0.61895162,  0.64221666,  0.67093509,  0.68293781,  0.30599   ,\n",
       "        0.31119244,  0.66894446,  0.67039782,  0.63407447,  0.66133773,\n",
       "        0.67681591,  0.68969464,  0.33817964,  0.34208042,  0.68721637,\n",
       "        0.68797814,  0.6940525 ,  0.70893356,  0.55357275,  0.56117452,\n",
       "        0.33904918,  0.34329401,  0.68749956,  0.68832623,  0.69706504,\n",
       "        0.71613331,  0.5552505 ,  0.56371115,  0.25582729,  0.25817047,\n",
       "        0.66080363,  0.66134319,  0.66549299,  0.67865119,  0.52883303,\n",
       "        0.53583875,  0.25609311,  0.25883999,  0.66086653,  0.66147833,\n",
       "        0.66725354,  0.68519342,  0.52910474,  0.53702372])"
      ]
     },
     "execution_count": 7,
     "metadata": {},
     "output_type": "execute_result"
    }
   ],
   "source": [
    "sequence_space.fracfolded"
   ]
  },
  {
   "cell_type": "markdown",
   "metadata": {},
   "source": [
    "We can access all sequences and fitness in this space by calling these properties."
   ]
  },
  {
   "cell_type": "code",
   "execution_count": null,
   "metadata": {
    "collapsed": true
   },
   "outputs": [],
   "source": []
  }
 ],
 "metadata": {
  "kernelspec": {
   "display_name": "Python 3 (py3)",
   "language": "python",
   "name": "py3"
  },
  "language_info": {
   "codemirror_mode": {
    "name": "ipython",
    "version": 3
   },
   "file_extension": ".py",
   "mimetype": "text/x-python",
   "name": "python",
   "nbconvert_exporter": "python",
   "pygments_lexer": "ipython3",
   "version": "3.5.0"
  }
 },
 "nbformat": 4,
 "nbformat_minor": 0
}
